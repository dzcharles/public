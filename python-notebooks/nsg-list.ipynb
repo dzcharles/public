{
 "cells": [
  {
   "cell_type": "markdown",
   "id": "0cbfe2d0",
   "metadata": {},
   "source": [
    "# Working with Network Security Groups\n",
    "\n",
    "In this notebook, some examples; and manipulation are done on NSG's\n",
    "\n",
    "## Getting started\n",
    "\n",
    "Install the libraries\n",
    "```bash\n",
    "pip install azure.identity azure.mgmt.network\n",
    "```"
   ]
  },
  {
   "cell_type": "markdown",
   "id": "52309cb2",
   "metadata": {},
   "source": [
    "## List all the NSGs\n",
    "\n",
    "We will authenticate with the Interactive Browser credential and List all the NSGs.  \n",
    "They will be saved in a list(), otherwise they are consumed the first time we iterate them. "
   ]
  },
  {
   "cell_type": "code",
   "execution_count": null,
   "id": "9f9b902a",
   "metadata": {},
   "outputs": [],
   "source": [
    "from azure.identity import InteractiveBrowserCredential\n",
    "from azure.mgmt.network import NetworkManagementClient\n",
    "\n",
    "sub_id = \"FILL IN THE GUID OF THE SUBSCRIPTION\"\n",
    "\n",
    "client = NetworkManagementClient(credential=InteractiveBrowserCredential(), subscription_id=sub_id)\n",
    "\n",
    "response = list(client.network_security_groups.list_all())"
   ]
  },
  {
   "cell_type": "markdown",
   "id": "e77d7898",
   "metadata": {},
   "source": [
    "## Rules overview\n",
    "\n",
    "We will now create an overview of the default rules and the inbound/outbound rules that have been created.  \n",
    "As we have saved all the nsgs in the **response** list above, we can use it here."
   ]
  },
  {
   "cell_type": "code",
   "execution_count": null,
   "id": "c9ec3409",
   "metadata": {},
   "outputs": [
    {
     "name": "stdout",
     "output_type": "stream",
     "text": [
      "------ Looking for 10.0.152.9 ------\n",
      "10.0.152.9 found in in-sn-apps-nsg\n",
      "10.0.152.9 found in in-sn-dmzext-hw-nsg\n",
      "10.0.152.9 found in in-sn-monitor-nsg\n"
     ]
    }
   ],
   "source": [
    "\n",
    "\n",
    "ipLookup = \"FILL THE IP TO LOOK FOR\"\n",
    "\n",
    "print(f\"------ Looking for {ipLookup} ------\")\n",
    "\n",
    "for nsg in response:\n",
    "    found = False\n",
    "    for security_rule in nsg.security_rules:\n",
    "        src_pfx = security_rule.source_address_prefix\n",
    "        src_pfxs = security_rule.source_address_prefixes\n",
    "        dst_pfx = security_rule.destination_address_prefix\n",
    "        dst_pfxs = security_rule.destination_address_prefixes\n",
    "\n",
    "        if type(src_pfx).__name__ == \"str\" and src_pfx == ipLookup:\n",
    "            found = True\n",
    "        if type(dst_pfx).__name__ == \"str\" and dst_pfx == ipLookup:\n",
    "            found = True\n",
    "        if len(src_pfxs) > 0 and ipLookup in src_pfxs:\n",
    "            found = True\n",
    "        \n",
    "        if len(dst_pfxs) > 0 and ipLookup in dst_pfxs:\n",
    "            found = True\n",
    "\n",
    "    if found == True:\n",
    "        print(f\"{ipLookup} found in {nsg.name}\")\n",
    "\n",
    "\n",
    "\n",
    "\n"
   ]
  }
 ],
 "metadata": {
  "kernelspec": {
   "display_name": "venv",
   "language": "python",
   "name": "python3"
  },
  "language_info": {
   "codemirror_mode": {
    "name": "ipython",
    "version": 3
   },
   "file_extension": ".py",
   "mimetype": "text/x-python",
   "name": "python",
   "nbconvert_exporter": "python",
   "pygments_lexer": "ipython3",
   "version": "3.13.3"
  }
 },
 "nbformat": 4,
 "nbformat_minor": 5
}
